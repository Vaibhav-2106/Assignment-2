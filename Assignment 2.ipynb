{
 "cells": [
  {
   "cell_type": "code",
   "execution_count": 1,
   "id": "d87d94e2-2e65-4dba-953a-30203735d645",
   "metadata": {},
   "outputs": [],
   "source": [
    "# Assignment No - 02  ##Solutions"
   ]
  },
  {
   "cell_type": "code",
   "execution_count": 2,
   "id": "78efe1f8-31fa-401b-842a-b6f74562d05e",
   "metadata": {},
   "outputs": [],
   "source": [
    "## Q1.\n",
    "#There are two ways to write comments in python.\n",
    "\n",
    "## Single line comment - \n",
    "#Basically this comment shown by single Hash or double Hash. Anything after this Hash will be consider as comment in python which will not be a part of code.\n",
    "\n",
    "## Multi line comments -\n",
    "#This type of comments shown by three single quotes (''') or three double quotes (\"\"\") at the start and end of the comment. This multiline comment can be stored \n",
    "#as a string for future use.\n",
    "\n",
    "#Generally comments are used to explain the code for better understanding.\n",
    "\n"
   ]
  },
  {
   "cell_type": "code",
   "execution_count": 4,
   "id": "ecec1443-ffba-493e-abb8-46b853420845",
   "metadata": {},
   "outputs": [],
   "source": [
    "## Q2.\n",
    "# Variables - In python variables are those where we can store data values and can be accessed and manupulated whenever required.\n",
    "#for example - \n",
    "Name = \"Vaibhav\"\n",
    "#Here Name is variable in which data (\"Vaibhav\") stored in the form of string data type. Similarly we can store any data type values in the variable.\n",
    "#Now if I will call variable then it should give me stored values as shown below"
   ]
  },
  {
   "cell_type": "code",
   "execution_count": 5,
   "id": "68f8039f-4b18-409f-a1f6-49bef38aa0c0",
   "metadata": {},
   "outputs": [
    {
     "data": {
      "text/plain": [
       "'Vaibhav'"
      ]
     },
     "execution_count": 5,
     "metadata": {},
     "output_type": "execute_result"
    }
   ],
   "source": [
    "Name"
   ]
  },
  {
   "cell_type": "code",
   "execution_count": 6,
   "id": "f0b29c18-6f59-4dd4-b6c3-c69d3a62bad4",
   "metadata": {},
   "outputs": [
    {
     "data": {
      "text/plain": [
       "int"
      ]
     },
     "execution_count": 6,
     "metadata": {},
     "output_type": "execute_result"
    }
   ],
   "source": [
    "## Q3.\n",
    "#In python changing data type is very easy let's understand by example.\n",
    "#For Example -\n",
    "Age = 23  #Age is a variable and i have stored value 23 in that variable\n",
    "type(Age)   #Checking type of given assigned variable"
   ]
  },
  {
   "cell_type": "code",
   "execution_count": 7,
   "id": "3cb53555-65e1-4334-94f3-aa1414f32df3",
   "metadata": {},
   "outputs": [
    {
     "data": {
      "text/plain": [
       "str"
      ]
     },
     "execution_count": 7,
     "metadata": {},
     "output_type": "execute_result"
    }
   ],
   "source": [
    "#As we can see it's int type. Now I want to convert it to string, how i will do it?......Shown below\n",
    "Age = str(Age)    #Changing and updating data type \n",
    "type(Age)        #Checking updated data type"
   ]
  },
  {
   "cell_type": "code",
   "execution_count": 8,
   "id": "948b240f-6402-4e36-a17f-b23186ca7f11",
   "metadata": {},
   "outputs": [
    {
     "data": {
      "text/plain": [
       "float"
      ]
     },
     "execution_count": 8,
     "metadata": {},
     "output_type": "execute_result"
    }
   ],
   "source": [
    "#Similarly, \n",
    "Age  = float(Age)\n",
    "type(Age)"
   ]
  },
  {
   "cell_type": "code",
   "execution_count": 9,
   "id": "f8b501d1-ebe7-4f61-8bf3-928e5624b05b",
   "metadata": {},
   "outputs": [],
   "source": [
    "## Q4.\n",
    "#Writing python script\n",
    "#Create a new file in text editor\n",
    "#Write your code\n",
    "#Save the file with '.py' extension\n",
    "\n",
    "#Execution of python script\n",
    "#Open the command prompt\n",
    "#Navigate the directory where you saved the file\n",
    "#Execute the python script by typing 'python' followed by name of the file.\n",
    "#Run the file\n"
   ]
  },
  {
   "cell_type": "code",
   "execution_count": 15,
   "id": "ae322c11-313a-4efa-a40a-ad993df6e28a",
   "metadata": {},
   "outputs": [
    {
     "name": "stdout",
     "output_type": "stream",
     "text": [
      "1\n",
      "2\n",
      "3\n",
      "4\n",
      "5\n"
     ]
    },
    {
     "data": {
      "text/plain": [
       "[2, 3]"
      ]
     },
     "execution_count": 15,
     "metadata": {},
     "output_type": "execute_result"
    }
   ],
   "source": [
    "## Q5.\n",
    "my_list = [1, 2, 3, 4, 5]\n",
    "sub_list = []\n",
    "for i in my_list :\n",
    "    print(i)\n",
    "    if i == 2 or i ==3 :\n",
    "        sub_list.append(i)\n",
    "sub_list\n",
    "    \n",
    "    "
   ]
  },
  {
   "cell_type": "code",
   "execution_count": 1,
   "id": "b089c264-ac7d-48c4-b67d-68833beae81c",
   "metadata": {},
   "outputs": [],
   "source": [
    "## Q6.\n",
    "#Complex number in mathematics represented as Z = a + bi, Where a is real part and b is imaginary part. Value of i is sq.root of -1.\n",
    "#In co-ordinate axis real part represented on horizontal axis where as imaginary part represented on verticle axis.\n",
    "#In python to represent complex number we use j instead of i, Z = a + bj, Where j = sq.root of -1."
   ]
  },
  {
   "cell_type": "code",
   "execution_count": 2,
   "id": "dc507f01-dc94-476b-ae88-3d5a0caaba48",
   "metadata": {},
   "outputs": [],
   "source": [
    "## Q7.\n",
    "age = 25"
   ]
  },
  {
   "cell_type": "code",
   "execution_count": 3,
   "id": "7ffc149e-9259-460e-a14f-3863aef2e3a8",
   "metadata": {},
   "outputs": [
    {
     "name": "stdout",
     "output_type": "stream",
     "text": [
      "<class 'float'>\n"
     ]
    }
   ],
   "source": [
    "## Q8.\n",
    "price = 9.99\n",
    "print(type(price))"
   ]
  },
  {
   "cell_type": "code",
   "execution_count": 4,
   "id": "e2b201a8-3959-4467-b539-2b3ca70caee5",
   "metadata": {},
   "outputs": [
    {
     "name": "stdout",
     "output_type": "stream",
     "text": [
      "Vaibhav Shirsath\n"
     ]
    }
   ],
   "source": [
    "## Q9.\n",
    "name = \"Vaibhav Shirsath\"\n",
    "print(name)"
   ]
  },
  {
   "cell_type": "code",
   "execution_count": 10,
   "id": "f4f355ea-75ee-4401-8ebc-68216ea2ab93",
   "metadata": {},
   "outputs": [
    {
     "data": {
      "text/plain": [
       "'World'"
      ]
     },
     "execution_count": 10,
     "metadata": {},
     "output_type": "execute_result"
    }
   ],
   "source": [
    "## Q10.\n",
    "s = \"Hello, World!\"            #say\n",
    "len(s)\n",
    "s[7 : 12]"
   ]
  },
  {
   "cell_type": "code",
   "execution_count": 1,
   "id": "68b7cc6e-1d0a-4998-9fa0-1bb4478e570a",
   "metadata": {},
   "outputs": [],
   "source": [
    "## Q11.\n",
    "is_student = True"
   ]
  },
  {
   "cell_type": "code",
   "execution_count": 2,
   "id": "aad453dc-1628-4bb9-b793-ed9f386ee75a",
   "metadata": {},
   "outputs": [
    {
     "data": {
      "text/plain": [
       "True"
      ]
     },
     "execution_count": 2,
     "metadata": {},
     "output_type": "execute_result"
    }
   ],
   "source": [
    "is_student"
   ]
  },
  {
   "cell_type": "code",
   "execution_count": null,
   "id": "1a1dffe5-c198-46bd-89e6-fcaa52a3f9f5",
   "metadata": {},
   "outputs": [],
   "source": []
  },
  {
   "cell_type": "code",
   "execution_count": null,
   "id": "5ca322d4-5c56-4905-b20d-079abe1347ee",
   "metadata": {},
   "outputs": [],
   "source": []
  }
 ],
 "metadata": {
  "kernelspec": {
   "display_name": "Python 3 (ipykernel)",
   "language": "python",
   "name": "python3"
  },
  "language_info": {
   "codemirror_mode": {
    "name": "ipython",
    "version": 3
   },
   "file_extension": ".py",
   "mimetype": "text/x-python",
   "name": "python",
   "nbconvert_exporter": "python",
   "pygments_lexer": "ipython3",
   "version": "3.10.8"
  }
 },
 "nbformat": 4,
 "nbformat_minor": 5
}
